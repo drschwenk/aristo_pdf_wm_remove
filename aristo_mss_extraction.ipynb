{
 "cells": [
  {
   "cell_type": "code",
   "execution_count": 131,
   "metadata": {
    "collapsed": true
   },
   "outputs": [],
   "source": [
    "import PyPDF2\n",
    "from PIL import Image\n",
    "from io import BytesIO\n",
    "import base64\n",
    "import json\n",
    "import requests\n",
    "import cv2\n",
    "import numpy as np\n",
    "from collections import OrderedDict\n",
    "import os"
   ]
  },
  {
   "cell_type": "markdown",
   "metadata": {},
   "source": [
    "# Image Extraction and OCR"
   ]
  },
  {
   "cell_type": "markdown",
   "metadata": {},
   "source": [
    "## code"
   ]
  },
  {
   "cell_type": "code",
   "execution_count": 146,
   "metadata": {
    "collapsed": false,
    "run_control": {
     "frozen": false,
     "read_only": false
    }
   },
   "outputs": [],
   "source": [
    "def extract_image_from_page(page, pdf_source, page_n):\n",
    "    image_name_prefix = 'page_' + str(page_n) + '_'\n",
    "    dest_dir = os.path.join('extracted_images', pdf_source.replace('.pdf', ''))\n",
    "    dest_path = os.path.join(dest_dir, image_name_prefix)\n",
    "    os.makedirs(dest_dir, exist_ok=True)\n",
    "    x_objects = test_page['/Resources']['/XObject'].getObject()\n",
    "    for obj in x_objects:\n",
    "        if x_objects[obj]['/Subtype'] == '/Image':\n",
    "            size = (xObject[obj]['/Width'], xObject[obj]['/Height'])\n",
    "            data = xObject[obj].getData()\n",
    "            if xObject[obj]['/ColorSpace'] == '/DeviceRGB':\n",
    "                mode = \"RGB\"\n",
    "            else:\n",
    "                mode = \"P\"\n",
    "            if xObject[obj]['/Filter'] == '/FlateDecode':\n",
    "                img = Image.frombytes(mode, size, data)\n",
    "                img.save(dest_path + obj[1:] + \".png\")\n",
    "            elif xObject[obj]['/Filter'] == '/DCTDecode':\n",
    "                img = open(dest_path + obj[1:] + \".jpg\", \"wb\")\n",
    "                img.write(data)\n",
    "                img.close()\n",
    "            elif xObject[obj]['/Filter'] == '/JPXDecode':\n",
    "                img = open(dest_path + obj[1:] + \".jp2\", \"wb\")\n",
    "                img.write(data)\n",
    "                img.close()\n",
    "    return img\n",
    "\n",
    "def query_vision_ocr(image_str, merge_boxes=True, include_merged_components=True, as_json=True, max_pix_size=None):\n",
    "    api_entry_point = 'http://vision-ocr.dev.allenai.org/v1/ocr'\n",
    "    header = {'Content-Type': 'application/json'}\n",
    "    \n",
    "    request_data = {\n",
    "        'mergeBoxes': merge_boxes,\n",
    "        'includeMergedComponents': include_merged_components\n",
    "    }\n",
    "\n",
    "    if len(image_str) > 500:\n",
    "        request_data['image'] = image_str\n",
    "    else:\n",
    "        request_data['url'] = image_str\n",
    "    \n",
    "    json_data = json.dumps(request_data)\n",
    "    response = requests.post(api_entry_point, data=json_data, headers=header)\n",
    "    if response.reason != 'OK':\n",
    "        print(response.reason)\n",
    "    json_response = json.loads(response.content.decode())\n",
    "    if as_json:\n",
    "        response = json_response\n",
    "    return response"
   ]
  },
  {
   "cell_type": "code",
   "execution_count": 147,
   "metadata": {
    "collapsed": false
   },
   "outputs": [],
   "source": [
    "def point_to_tuple(box):\n",
    "    return tuple(OrderedDict(sorted(box.items())).values())\n",
    "\n",
    "def get_bbox_tuples(detection):\n",
    "    return map(point_to_tuple, detection['rectangle'])\n",
    "\n",
    "def draw_detections(pil_image, detections):\n",
    "    open_cv_image = np.array(pil_image) \n",
    "    for box in detections:\n",
    "        lr, ul = get_bbox_tuples(box)\n",
    "        cv2.rectangle(open_cv_image, ul, lr, color=(100, 100, 100), thickness=1)\n",
    "    return Image.fromarray(open_cv_image, 'P')"
   ]
  },
  {
   "cell_type": "markdown",
   "metadata": {},
   "source": [
    "## run"
   ]
  },
  {
   "cell_type": "code",
   "execution_count": 148,
   "metadata": {
    "collapsed": false
   },
   "outputs": [],
   "source": [
    "pdf_name = 'dec_test.pdf'\n",
    "pdf_doc = PyPDF2.PdfFileReader(open(pdf_name, \"rb\"))\n",
    "page_n = 30\n",
    "test_page = pdf_doc.getPage(page_n)\n",
    "img_to_disp = extract_image_from_page(test_page, pdf_name, page_n)"
   ]
  },
  {
   "cell_type": "code",
   "execution_count": 86,
   "metadata": {
    "collapsed": false
   },
   "outputs": [],
   "source": [
    "sbuffer = BytesIO()\n",
    "img_to_disp.save(sbuffer, format=\"PNG\")\n",
    "b64_image = base64.b64encode(sbuffer.getvalue())\n",
    "str_image = b64_image.decode()"
   ]
  },
  {
   "cell_type": "code",
   "execution_count": 96,
   "metadata": {
    "collapsed": false
   },
   "outputs": [],
   "source": [
    "response = query_vision_ocr(str_image, merge_boxes=False, include_merged_components=False)"
   ]
  },
  {
   "cell_type": "code",
   "execution_count": 97,
   "metadata": {
    "collapsed": false
   },
   "outputs": [
    {
     "name": "stdout",
     "output_type": "stream",
     "text": [
      "1\n",
      "2\n",
      "Spring 1 and Spring 2 were the same. Then, Spring 1 was pushed together a\n",
      "little and clamped in place. Spring 2 was pushed together a lot and\n",
      "clamped\n",
      "Which spring has more stored energy?\n",
      "CA\n",
      "Spring 1\n",
      "Spring\n",
      "22\n",
      "B\n",
      "O\n",
      "Both springs have the same energy\n",
      "D\n",
      "ou cannot tell unless you know what the springs are made of.\n"
     ]
    }
   ],
   "source": [
    "for detection in response['detections']:\n",
    "    print(detection['value'])"
   ]
  },
  {
   "cell_type": "code",
   "execution_count": 99,
   "metadata": {
    "collapsed": false
   },
   "outputs": [],
   "source": [
    "# img_to_disp"
   ]
  },
  {
   "cell_type": "code",
   "execution_count": 130,
   "metadata": {
    "collapsed": false
   },
   "outputs": [],
   "source": [
    "# draw_detections(img_to_disp, response['detections'])"
   ]
  },
  {
   "cell_type": "code",
   "execution_count": null,
   "metadata": {
    "collapsed": true
   },
   "outputs": [],
   "source": []
  },
  {
   "cell_type": "code",
   "execution_count": null,
   "metadata": {
    "collapsed": true
   },
   "outputs": [],
   "source": []
  },
  {
   "cell_type": "code",
   "execution_count": null,
   "metadata": {
    "collapsed": true
   },
   "outputs": [],
   "source": []
  },
  {
   "cell_type": "code",
   "execution_count": null,
   "metadata": {
    "collapsed": true
   },
   "outputs": [],
   "source": []
  },
  {
   "cell_type": "code",
   "execution_count": null,
   "metadata": {
    "collapsed": true
   },
   "outputs": [],
   "source": []
  },
  {
   "cell_type": "code",
   "execution_count": null,
   "metadata": {
    "collapsed": true
   },
   "outputs": [],
   "source": []
  }
 ],
 "metadata": {
  "kernelspec": {
   "display_name": "Python 3",
   "language": "python",
   "name": "python3"
  },
  "language_info": {
   "codemirror_mode": {
    "name": "ipython",
    "version": 3
   },
   "file_extension": ".py",
   "mimetype": "text/x-python",
   "name": "python",
   "nbconvert_exporter": "python",
   "pygments_lexer": "ipython3",
   "version": "3.5.2"
  }
 },
 "nbformat": 4,
 "nbformat_minor": 1
}
