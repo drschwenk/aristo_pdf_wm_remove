{
 "cells": [
  {
   "cell_type": "code",
   "execution_count": 55,
   "metadata": {
    "collapsed": false
   },
   "outputs": [],
   "source": [
    "# import PyPDF2\n",
    "from PIL import Image\n",
    "from io import BytesIO\n",
    "import base64\n",
    "import json\n",
    "import requests\n",
    "import cv2\n",
    "import numpy as np\n",
    "from collections import OrderedDict\n",
    "from collections import defaultdict\n",
    "import os\n",
    "from subprocess import call\n",
    "import PyPDF2"
   ]
  },
  {
   "cell_type": "markdown",
   "metadata": {},
   "source": [
    "# Image Extraction and OCR"
   ]
  },
  {
   "cell_type": "markdown",
   "metadata": {},
   "source": [
    "## code"
   ]
  },
  {
   "cell_type": "code",
   "execution_count": 2,
   "metadata": {
    "collapsed": false
   },
   "outputs": [],
   "source": [
    "def point_to_tuple(box):\n",
    "    return tuple(OrderedDict(sorted(box.items())).values())\n",
    "\n",
    "def get_bbox_tuples(detection):\n",
    "    return map(point_to_tuple, detection['rectangle'])\n",
    "\n",
    "def draw_detections(pil_image, detections):\n",
    "    open_cv_image = np.array(pil_image) \n",
    "    for box in detections:\n",
    "        lr, ul = get_bbox_tuples(box)\n",
    "        cv2.rectangle(open_cv_image, ul, lr, color=(100, 100, 100), thickness=1)\n",
    "    return Image.fromarray(open_cv_image, 'P')"
   ]
  },
  {
   "cell_type": "code",
   "execution_count": 44,
   "metadata": {
    "code_folding": [
     13
    ],
    "collapsed": false
   },
   "outputs": [],
   "source": [
    "def extract_pdf_images(pdf_file):\n",
    "    decrypted_file = decrypt_pdf(pdf_file)\n",
    "    pdf_doc = PyPDF2.PdfFileReader(open(decrypted_file, \"rb\"))\n",
    "    page_range = range(0, pdf_doc.getNumPages())\n",
    "    for page_n in page_range:\n",
    "        pdf_page = pdf_doc.getPage(page_n)\n",
    "        img_to_disp = extract_image_from_page(pdf_page, pdf_name, page_n)\n",
    "\n",
    "def decrypt_pdf(encrypted_pdf):\n",
    "    decrypted_filename = 'decryp_' + encrypted_pdf\n",
    "    call('qpdf --password=%s --decrypt %s %s' %('', encrypted_pdf, decrypted_filename), shell=True)\n",
    "    return decrypted_filename\n",
    "\n",
    "def extract_image_from_page(page, pdf_source, page_n, return_image=False):\n",
    "    \n",
    "    img_modes = {'/DeviceRGB': 'RGB', '/DefaultRGB': 'RGB',\n",
    "             '/DeviceCMYK': 'CMYK', '/DefaultCMYK': 'CMYK',\n",
    "             '/DeviceGray': 'L', '/DefaultGray': 'L',\n",
    "             '/Indexed': 'P'}\n",
    "    \n",
    "    image_name_prefix = 'page_' + str(page_n)\n",
    "    dest_dir = os.path.join('extracted_images', pdf_source.replace('.pdf', '').replace(' ', '_'))\n",
    "    dest_path = os.path.join(dest_dir, image_name_prefix)\n",
    "    os.makedirs(dest_dir, exist_ok=True)\n",
    "    image_to_return = None\n",
    "    \n",
    "    if '/XObject' not in page['/Resources'].keys():\n",
    "        return\n",
    "    x_objects = page['/Resources']['/XObject'].getObject()\n",
    "    count_interpolated = sum(['/Interpolate' in x_objects[obj].keys() for obj in x_objects]) \n",
    "    all_interpolated = len(x_objects) == count_interpolated or count_interpolated == 0\n",
    "    page_images = defaultdict(lambda: defaultdict(list))\n",
    "    color_space = None\n",
    "    for obj in x_objects:\n",
    "        if x_objects[obj]['/Subtype'] == '/Image':\n",
    "            if '/Interpolate' not in x_objects[obj].keys() and not all_interpolated:\n",
    "                continue\n",
    "            size = (x_objects[obj]['/Width'], x_objects[obj]['/Height'])\n",
    "            try:\n",
    "                data = x_objects[obj].getData()\n",
    "            except (NotImplementedError, AssertionError) as e:\n",
    "                print(e)\n",
    "                continue\n",
    "            color_space = x_objects[obj]['/ColorSpace']\n",
    "            if color_space == '/DeviceRGB':\n",
    "                mode = \"RGB\"\n",
    "            elif isinstance(color_space, PyPDF2.generic.ArrayObject) and color_space[0] == '/Indexed':\n",
    "                color_space, base, hival, lookup = [v.getObject() for v in color_space] # pg 262\n",
    "                mode = img_modes[color_space]\n",
    "            else:\n",
    "                mode = \"P\"\n",
    "            if x_objects[obj]['/Filter'] == '/FlateDecode':\n",
    "                if isinstance(data, str):\n",
    "                    continue\n",
    "                img = Image.frombytes(mode, size, data)\n",
    "                page_images[mode]['/FlateDecode'].append(img)\n",
    "            elif x_objects[obj]['/Filter'] == '/DCTDecode':\n",
    "                img = open(dest_path + \".jpg\", \"wb\")\n",
    "                img.write(data)\n",
    "                img.close()\n",
    "                page_images[mode]['/DCTDecode'].append(img)\n",
    "                \n",
    "    for mode, img_filters in page_images.items():\n",
    "        for img_filt, images in img_filters.items():\n",
    "            if mode not in ['P', 'RGB'] or img_filt not in ['/FlateDecode']:\n",
    "                if mode = '/DCTDecode':\n",
    "                    return\n",
    "                print(mode, img_filt)\n",
    "                continue\n",
    "            if len(images) < 2:\n",
    "                image_to_return = images[0]\n",
    "            else:\n",
    "                widths, heights = zip(*(i.size for i in images))\n",
    "                total_height = sum(heights)\n",
    "                max_width = max(widths)\n",
    "                concat_image = Image.new(mode, (max_width, total_height))\n",
    "                vert_offset = 0\n",
    "                for im in images[::-1]:\n",
    "                    concat_image.paste(im, (0, vert_offset))\n",
    "                    vert_offset += im.size[1]        \n",
    "                concat_image.save(dest_path + \".png\")\n",
    "                image_to_return = concat_image\n",
    "    \n",
    "\n",
    "    \n",
    "    if image_to_return:\n",
    "        if color_space == '/Indexed':\n",
    "            try:\n",
    "                image_to_return.putpalette(lookup.getData())\n",
    "                image_to_return = image_to_return.convert('RGB')\n",
    "            except (AttributeError, ValueError) as e:\n",
    "                print(page_n, e)\n",
    "                return              \n",
    "        \n",
    "        image_to_return.save(dest_path + \".png\")\n",
    "        if return_image:\n",
    "            return image_to_return\n",
    "    \n",
    "def query_vision_ocr(image_str, merge_boxes=True, include_merged_components=True, as_json=True, max_pix_size=None):\n",
    "    api_entry_point = 'http://vision-ocr.dev.allenai.org/v1/ocr'\n",
    "    header = {'Content-Type': 'application/json'}\n",
    "    \n",
    "    request_data = {\n",
    "        'mergeBoxes': merge_boxes,\n",
    "        'includeMergedComponents': include_merged_components\n",
    "    }\n",
    "\n",
    "    if len(image_str) > 500:\n",
    "        request_data['image'] = image_str\n",
    "    else:\n",
    "        request_data['url'] = image_str\n",
    "    \n",
    "    json_data = json.dumps(request_data)\n",
    "    response = requests.post(api_entry_point, data=json_data, headers=header)\n",
    "    if response.reason != 'OK':\n",
    "        print(response.reason)\n",
    "    json_response = json.loads(response.content.decode())\n",
    "    if as_json:\n",
    "        response = json_response\n",
    "    return response"
   ]
  },
  {
   "cell_type": "markdown",
   "metadata": {},
   "source": [
    "## run"
   ]
  },
  {
   "cell_type": "code",
   "execution_count": 4,
   "metadata": {
    "collapsed": false
   },
   "outputs": [
    {
     "name": "stdout",
     "output_type": "stream",
     "text": [
      "/Users/schwenk/wrk/z__scratch/pdf_exp/Third_International_MSS\n"
     ]
    }
   ],
   "source": [
    "cd Third_International_MSS/"
   ]
  },
  {
   "cell_type": "code",
   "execution_count": 48,
   "metadata": {
    "collapsed": false
   },
   "outputs": [
    {
     "data": {
      "text/plain": [
       "['1995_TIMSS_4th_Grade_Science_61.pdf',\n",
       " '1995_TIMSS_8th_Grade_Science_87.pdf',\n",
       " '2003_TIMSS_Science_4th_grade_released_75.pdf',\n",
       " '2003_TIMSS_Science_8th_grade_released_95.pdf',\n",
       " '2007_TIMSS_4th_Grade_Science_Released_72.pdf',\n",
       " '2007_TIMSS_8th_Grade_SCIENCE_released_89.pdf',\n",
       " '2011_TIMSS_4th_grade_Science_Release_84.pdf',\n",
       " '2011_TIMSS_8th_grade_Science_Release_99.pdf']"
      ]
     },
     "execution_count": 48,
     "metadata": {},
     "output_type": "execute_result"
    }
   ],
   "source": [
    "pdfs_to_proc"
   ]
  },
  {
   "cell_type": "code",
   "execution_count": 47,
   "metadata": {
    "collapsed": false
   },
   "outputs": [],
   "source": [
    "pdfs_to_proc = ! ls *pdf"
   ]
  },
  {
   "cell_type": "code",
   "execution_count": 49,
   "metadata": {
    "collapsed": false
   },
   "outputs": [
    {
     "name": "stdout",
     "output_type": "stream",
     "text": [
      "1995_TIMSS_4th_Grade_Science_61.pdf\n",
      "1995_TIMSS_8th_Grade_Science_87.pdf\n",
      "2003_TIMSS_Science_4th_grade_released_75.pdf\n",
      "2003_TIMSS_Science_8th_grade_released_95.pdf\n",
      "13 'ByteStringObject' object has no attribute 'getData'\n",
      "2007_TIMSS_4th_Grade_Science_Released_72.pdf\n",
      "2007_TIMSS_8th_Grade_SCIENCE_released_89.pdf\n",
      "\n",
      "\n",
      "\n",
      "P /DCTDecode\n",
      "P /DCTDecode\n",
      "P /DCTDecode\n",
      "P /DCTDecode\n",
      "P /DCTDecode\n",
      "P /DCTDecode\n",
      "P /DCTDecode\n",
      "P /DCTDecode\n",
      "P /DCTDecode\n",
      "P /DCTDecode\n",
      "P /DCTDecode\n",
      "P /DCTDecode\n",
      "P /DCTDecode\n",
      "P /DCTDecode\n",
      "16 'ByteStringObject' object has no attribute 'getData'\n",
      "P /DCTDecode\n",
      "P /DCTDecode\n",
      "P /DCTDecode\n",
      "19 'ByteStringObject' object has no attribute 'getData'\n",
      "P /DCTDecode\n",
      "P /DCTDecode\n",
      "P /DCTDecode\n",
      "P /DCTDecode\n",
      "P /DCTDecode\n",
      "24 'ByteStringObject' object has no attribute 'getData'\n",
      "P /DCTDecode\n",
      "P /DCTDecode\n",
      "P /DCTDecode\n",
      "27 'ByteStringObject' object has no attribute 'getData'\n",
      "P /DCTDecode\n",
      "P /DCTDecode\n",
      "P /DCTDecode\n",
      "P /DCTDecode\n",
      "32 'ByteStringObject' object has no attribute 'getData'\n",
      "P /DCTDecode\n",
      "33 'ByteStringObject' object has no attribute 'getData'\n",
      "P /DCTDecode\n",
      "P /DCTDecode\n",
      "P /DCTDecode\n",
      "36 'ByteStringObject' object has no attribute 'getData'\n",
      "P /DCTDecode\n",
      "P /DCTDecode\n",
      "40 'ByteStringObject' object has no attribute 'getData'\n",
      "P /DCTDecode\n",
      "P /DCTDecode\n",
      "P /DCTDecode\n",
      "P /DCTDecode\n",
      "45 'ByteStringObject' object has no attribute 'getData'\n",
      "P /DCTDecode\n",
      "P /DCTDecode\n",
      "P /DCTDecode\n",
      "50 'ByteStringObject' object has no attribute 'getData'\n",
      "P /DCTDecode\n",
      "P /DCTDecode\n",
      "P /DCTDecode\n",
      "P /DCTDecode\n",
      "55 'ByteStringObject' object has no attribute 'getData'\n",
      "P /DCTDecode\n",
      "P /DCTDecode\n",
      "P /DCTDecode\n",
      "59 'ByteStringObject' object has no attribute 'getData'\n",
      "P /DCTDecode\n",
      "60 'ByteStringObject' object has no attribute 'getData'\n",
      "P /DCTDecode\n",
      "P /DCTDecode\n",
      "P /DCTDecode\n",
      "63 'ByteStringObject' object has no attribute 'getData'\n",
      "P /DCTDecode\n",
      "P /DCTDecode\n",
      "65 'ByteStringObject' object has no attribute 'getData'\n",
      "P /DCTDecode\n",
      "P /DCTDecode\n",
      "67 'ByteStringObject' object has no attribute 'getData'\n",
      "P /DCTDecode\n",
      "P /DCTDecode\n",
      "69 'ByteStringObject' object has no attribute 'getData'\n",
      "P /DCTDecode\n",
      "P /DCTDecode\n",
      "P /DCTDecode\n",
      "72 'ByteStringObject' object has no attribute 'getData'\n",
      "P /DCTDecode\n",
      "P /DCTDecode\n",
      "75 'ByteStringObject' object has no attribute 'getData'\n",
      "P /DCTDecode\n",
      "77 'ByteStringObject' object has no attribute 'getData'\n",
      "P /DCTDecode\n",
      "78 'ByteStringObject' object has no attribute 'getData'\n",
      "P /DCTDecode\n",
      "P /DCTDecode\n",
      "P /DCTDecode\n",
      "P /DCTDecode\n",
      "P /DCTDecode\n",
      "P /DCTDecode\n",
      "P /DCTDecode\n",
      "P /DCTDecode\n",
      "P /DCTDecode\n",
      "P /DCTDecode\n",
      "P /DCTDecode\n",
      "P /DCTDecode\n",
      "P /DCTDecode\n",
      "P /DCTDecode\n",
      "96 'ByteStringObject' object has no attribute 'getData'\n",
      "P /DCTDecode\n",
      "P /DCTDecode\n",
      "98 'ByteStringObject' object has no attribute 'getData'\n",
      "P /DCTDecode\n",
      "P /DCTDecode\n",
      "100 'ByteStringObject' object has no attribute 'getData'\n",
      "P /DCTDecode\n",
      "101 'ByteStringObject' object has no attribute 'getData'\n",
      "P /DCTDecode\n",
      "P /DCTDecode\n",
      "P /DCTDecode\n",
      "P /DCTDecode\n",
      "105 'ByteStringObject' object has no attribute 'getData'\n",
      "P /DCTDecode\n",
      "P /DCTDecode\n",
      "P /DCTDecode\n",
      "108 'ByteStringObject' object has no attribute 'getData'\n",
      "P /DCTDecode\n",
      "P /DCTDecode\n",
      "P /DCTDecode\n",
      "P /DCTDecode\n",
      "P /DCTDecode\n",
      "113 'ByteStringObject' object has no attribute 'getData'\n",
      "P /DCTDecode\n",
      "P /DCTDecode\n",
      "P /DCTDecode\n",
      "P /DCTDecode\n",
      "P /DCTDecode\n",
      "118 'ByteStringObject' object has no attribute 'getData'\n",
      "P /DCTDecode\n",
      "P /DCTDecode\n",
      "P /DCTDecode\n",
      "P /DCTDecode\n",
      "P /DCTDecode\n",
      "P /DCTDecode\n",
      "P /DCTDecode\n",
      "128 'ByteStringObject' object has no attribute 'getData'\n",
      "P /DCTDecode\n",
      "P /DCTDecode\n",
      "P /DCTDecode\n",
      "131 'ByteStringObject' object has no attribute 'getData'\n",
      "P /DCTDecode\n",
      "P /DCTDecode\n",
      "2011_TIMSS_4th_grade_Science_Release_84.pdf\n",
      "87 invalid palette size\n",
      "99 invalid palette size\n",
      "2011_TIMSS_8th_grade_Science_Release_99.pdf\n"
     ]
    }
   ],
   "source": [
    "for pdf_name in pdfs_to_proc:\n",
    "    print(pdf_name)\n",
    "    extract_pdf_images(pdf_name)"
   ]
  },
  {
   "cell_type": "markdown",
   "metadata": {},
   "source": [
    "## OCR Example"
   ]
  },
  {
   "cell_type": "code",
   "execution_count": 52,
   "metadata": {
    "collapsed": false,
    "scrolled": true
   },
   "outputs": [],
   "source": [
    "pdf_name = './decryp_2011_TIMSS_4th_grade_Science_Release_84.pdf'\n",
    "# pdf_name = './decryp_2003_TIMSS_Science_4th_grade_released_75.pdf'\n",
    "\n",
    "pdf_doc = PyPDF2.PdfFileReader(open(pdf_name, \"rb\"))\n",
    "pdf_page = pdf_doc.getPage(70)\n",
    "img_to_disp = extract_image_from_page(pdf_page, pdf_name, 70, True)"
   ]
  },
  {
   "cell_type": "code",
   "execution_count": 53,
   "metadata": {
    "collapsed": false,
    "scrolled": false
   },
   "outputs": [
    {
     "data": {
      "image/png": "[encoded data removed]",
      "text/plain": [
       "<PIL.Image.Image image mode=P size=1884x875 at 0x14348A908>"
      ]
     },
     "execution_count": 53,
     "metadata": {},
     "output_type": "execute_result"
    }
   ],
   "source": [
    "img_to_disp"
   ]
  },
  {
   "cell_type": "code",
   "execution_count": 59,
   "metadata": {
    "collapsed": false
   },
   "outputs": [
    {
     "name": "stdout",
     "output_type": "stream",
     "text": [
      "@\n",
      "Un\n",
      "CA\n",
      "D The\n",
      "What is the correct explanation for why we have day and night on Earth?\n",
      "CA The Sun orbits around the Earth.\n",
      "B\n",
      "Earth orbits around the Sun\n",
      "C)\n",
      "Earth turns on its axis.\n",
      "D The Sun turns on its axis.\n"
     ]
    }
   ],
   "source": [
    "for detection in response['detections']:\n",
    "    print(detection['value'])"
   ]
  },
  {
   "cell_type": "code",
   "execution_count": null,
   "metadata": {
    "collapsed": true
   },
   "outputs": [],
   "source": []
  },
  {
   "cell_type": "code",
   "execution_count": 57,
   "metadata": {
    "collapsed": true
   },
   "outputs": [],
   "source": [
    "sbuffer = BytesIO()\n",
    "img_to_disp.save(sbuffer, format=\"PNG\")\n",
    "b64_image = base64.b64encode(sbuffer.getvalue())\n",
    "str_image = b64_image.decode()"
   ]
  },
  {
   "cell_type": "code",
   "execution_count": 58,
   "metadata": {
    "collapsed": false
   },
   "outputs": [],
   "source": [
    "response = query_vision_ocr(str_image, merge_boxes=False, include_merged_components=False)"
   ]
  },
  {
   "cell_type": "code",
   "execution_count": 60,
   "metadata": {
    "collapsed": false
   },
   "outputs": [
    {
     "data": {
      "image/png": "[encoded data removed]",
      "text/plain": [
       "<PIL.Image.Image image mode=P size=1884x875 at 0x1432B4320>"
      ]
     },
     "execution_count": 60,
     "metadata": {},
     "output_type": "execute_result"
    }
   ],
   "source": [
    "draw_detections(img_to_disp, response['detections'])"
   ]
  },
  {
   "cell_type": "code",
   "execution_count": null,
   "metadata": {
    "collapsed": true
   },
   "outputs": [],
   "source": []
  },
  {
   "cell_type": "code",
   "execution_count": null,
   "metadata": {
    "collapsed": true
   },
   "outputs": [],
   "source": []
  },
  {
   "cell_type": "code",
   "execution_count": null,
   "metadata": {
    "collapsed": true
   },
   "outputs": [],
   "source": []
  },
  {
   "cell_type": "code",
   "execution_count": null,
   "metadata": {
    "collapsed": true
   },
   "outputs": [],
   "source": []
  },
  {
   "cell_type": "code",
   "execution_count": null,
   "metadata": {
    "collapsed": true
   },
   "outputs": [],
   "source": []
  },
  {
   "cell_type": "code",
   "execution_count": null,
   "metadata": {
    "collapsed": true
   },
   "outputs": [],
   "source": []
  }
 ],
 "metadata": {
  "kernelspec": {
   "display_name": "Python 3",
   "language": "python",
   "name": "python3"
  },
  "language_info": {
   "codemirror_mode": {
    "name": "ipython",
    "version": 3
   },
   "file_extension": ".py",
   "mimetype": "text/x-python",
   "name": "python",
   "nbconvert_exporter": "python",
   "pygments_lexer": "ipython3",
   "version": "3.5.2"
  }
 },
 "nbformat": 4,
 "nbformat_minor": 1
}
